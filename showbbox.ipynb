{
 "cells": [
  {
   "cell_type": "code",
   "execution_count": 161,
   "metadata": {},
   "outputs": [],
   "source": [
    "import cv2\n",
    "import json\n",
    "import numpy as np\n",
    "import os"
   ]
  },
  {
   "cell_type": "code",
   "execution_count": 162,
   "metadata": {},
   "outputs": [],
   "source": [
    "def create_boxes(img_size, norm_ann):\n",
    "\n",
    "    height, width, _ = img_size\n",
    "\n",
    "    x_center, y_center, w, h = norm_ann\n",
    "    x = int((x_center - w / 2) * width)\n",
    "    y = int((y_center - h / 2) * height)\n",
    "    w = int(w * width)\n",
    "    h = int(h * height)\n",
    "\n",
    "    return (x, y), (x + w, y + h)"
   ]
  },
  {
   "cell_type": "code",
   "execution_count": 163,
   "metadata": {},
   "outputs": [],
   "source": [
    "current_dir = os.getcwd()   # Get current working directory\n",
    "test = os.path.join(current_dir, \"datasets\", \"data\", \"RaccoonYD-38\", \"test\")     # Get test data directory\n",
    "train = os.path.join(current_dir, \"datasets\", \"data\", \"RaccoonYD-38\", \"train\")   # Get train data directory\n",
    "valid = os.path.join(current_dir, \"datasets\", \"data\", \"RaccoonYD-38\", \"valid\")   # Get validation data directory\n",
    "result = os.path.join(current_dir, \"workspace\") # Result files directory\n",
    "\n",
    "\n",
    "\n",
    "\n",
    "project_name = \"nanodet-plus-m_416_Raccoon\"\n",
    "result_num = 0\n",
    "result = result + f\"\\{project_name}\\\\results{result_num}.json\"\n",
    "\n",
    "# Load data from a local JSON file\n",
    "with open(result, 'r') as f:\n",
    "    result_logs = json.load(f)\n",
    "\n",
    "test_dir_info = os.listdir(test)\n",
    "\n",
    "img_id = int(input(\"Enter image id:\"))\n",
    "\n",
    "logs = []\n",
    "print\n",
    "for val in result_logs:\n",
    "    \n",
    "    if val['image_id'] == img_id:\n",
    "        logs.append(val)"
   ]
  },
  {
   "cell_type": "code",
   "execution_count": 164,
   "metadata": {},
   "outputs": [
    {
     "data": {
      "text/plain": [
       "[{'image_id': 6,\n",
       "  'category_id': 1,\n",
       "  'bbox': [57.445556640625,\n",
       "   44.0880126953125,\n",
       "   354.36968994140625,\n",
       "   361.3788146972656],\n",
       "  'score': 0.9408257007598877},\n",
       " {'image_id': 6,\n",
       "  'category_id': 1,\n",
       "  'bbox': [271.431884765625,\n",
       "   194.2173309326172,\n",
       "   139.10009765625,\n",
       "   122.75779724121094],\n",
       "  'score': 0.12116878479719162},\n",
       " {'image_id': 6,\n",
       "  'category_id': 1,\n",
       "  'bbox': [190.7239990234375,\n",
       "   195.415283203125,\n",
       "   107.33306884765625,\n",
       "   194.19528198242188],\n",
       "  'score': 0.10079723596572876},\n",
       " {'image_id': 6,\n",
       "  'category_id': 1,\n",
       "  'bbox': [45.41808319091797,\n",
       "   34.96136474609375,\n",
       "   224.90876007080078,\n",
       "   368.97174072265625],\n",
       "  'score': 0.09679999202489853},\n",
       " {'image_id': 6,\n",
       "  'category_id': 1,\n",
       "  'bbox': [60.95257568359375,\n",
       "   33.26597595214844,\n",
       "   337.597900390625,\n",
       "   234.5580291748047],\n",
       "  'score': 0.08083710074424744},\n",
       " {'image_id': 6,\n",
       "  'category_id': 1,\n",
       "  'bbox': [96.79922485351562,\n",
       "   43.388580322265625,\n",
       "   155.99234008789062,\n",
       "   134.5930633544922],\n",
       "  'score': 0.07198318839073181},\n",
       " {'image_id': 6,\n",
       "  'category_id': 1,\n",
       "  'bbox': [66.12980651855469,\n",
       "   192.55288696289062,\n",
       "   99.89524841308594,\n",
       "   169.60452270507812],\n",
       "  'score': 0.05164619907736778},\n",
       " {'image_id': 6,\n",
       "  'category_id': 1,\n",
       "  'bbox': [211.9895782470703,\n",
       "   378.52764892578125,\n",
       "   64.37449645996094,\n",
       "   37.47235107421875],\n",
       "  'score': 0.051586829125881195},\n",
       " {'image_id': 6,\n",
       "  'category_id': 1,\n",
       "  'bbox': [243.04287719726562,\n",
       "   221.63436889648438,\n",
       "   172.95712280273438,\n",
       "   194.36563110351562],\n",
       "  'score': 0.050381869077682495}]"
      ]
     },
     "execution_count": 164,
     "metadata": {},
     "output_type": "execute_result"
    }
   ],
   "source": [
    "logs"
   ]
  },
  {
   "cell_type": "code",
   "execution_count": 165,
   "metadata": {},
   "outputs": [],
   "source": [
    "img = test + f\"\\{test_dir_info[(img_id - 1) * 2]}\"\n",
    "img = cv2.imread(img)"
   ]
  },
  {
   "cell_type": "code",
   "execution_count": 166,
   "metadata": {},
   "outputs": [],
   "source": [
    "real_bbox = test + f\"\\{test_dir_info[(img_id - 1) * 2 + 1]}\"\n",
    "with open(real_bbox, 'r') as file:\n",
    "    ann_real = file.read().split()\n",
    "\n",
    "ann = list(map(float, ann_real[1: ]))\n",
    "p1, p2 = create_boxes(img.shape, ann)"
   ]
  },
  {
   "cell_type": "code",
   "execution_count": 167,
   "metadata": {},
   "outputs": [],
   "source": [
    "img_test = img.copy()"
   ]
  },
  {
   "cell_type": "code",
   "execution_count": 168,
   "metadata": {},
   "outputs": [],
   "source": [
    "cv2.rectangle(img_test, p1, p2, (255, 0, 0), 2);"
   ]
  },
  {
   "cell_type": "code",
   "execution_count": 169,
   "metadata": {},
   "outputs": [],
   "source": [
    "for ind, val in enumerate(logs):\n",
    "    if val['score'] > 0.2:\n",
    "        x, y, w, h = val['bbox']\n",
    "        cv2.rectangle(img_test, (int(x), int(y)), (int(w), int(h)), (0, 255, 0), 2)\n",
    "        cv2.putText(img_test, \"{}\".format(val[\"score\"]), (int(x), int(y)+20), cv2.FONT_HERSHEY_SIMPLEX, 0.5, (0, 0, 255), 1)\n"
   ]
  },
  {
   "cell_type": "code",
   "execution_count": 170,
   "metadata": {},
   "outputs": [],
   "source": [
    "cv2.imshow(\"raccoon\", img_test)\n",
    "cv2.waitKey(0)\n",
    "cv2.destroyAllWindows()\n",
    "del img_test"
   ]
  }
 ],
 "metadata": {
  "kernelspec": {
   "display_name": "Python 3",
   "language": "python",
   "name": "python3"
  },
  "language_info": {
   "codemirror_mode": {
    "name": "ipython",
    "version": 3
   },
   "file_extension": ".py",
   "mimetype": "text/x-python",
   "name": "python",
   "nbconvert_exporter": "python",
   "pygments_lexer": "ipython3",
   "version": "3.10.10"
  }
 },
 "nbformat": 4,
 "nbformat_minor": 2
}
