{
 "cells": [
  {
   "cell_type": "code",
   "execution_count": 47,
   "metadata": {},
   "outputs": [],
   "source": [
    "import cv2\n",
    "import json\n",
    "import numpy as np\n",
    "import os"
   ]
  },
  {
   "cell_type": "code",
   "execution_count": 48,
   "metadata": {},
   "outputs": [],
   "source": [
    "def create_boxes(img_size, annotations):\n",
    "    \n",
    "    height, width, _ = img_size\n",
    "    ann = []\n",
    "    for ind in annotations:\n",
    "        \n",
    "        x_center, y_center, w, h = ind[1:]\n",
    "        x = int((x_center - w / 2) * width)\n",
    "        y = int((y_center - h / 2) * height)\n",
    "        w = int(w * width)\n",
    "        h = int(h * height)\n",
    "        ann.append([ind[0], (x, y), (x + w, y + h)])\n",
    "    return ann"
   ]
  },
  {
   "cell_type": "code",
   "execution_count": 49,
   "metadata": {},
   "outputs": [],
   "source": [
    "def read_labels_from_text(file_path):\n",
    "  labels = []\n",
    "\n",
    "  with open(file_path, 'r') as file:\n",
    "  \n",
    "    for line in file:\n",
    "      label = line.strip()  # Remove leading/trailing whitespace\n",
    "      labels.append(label)\n",
    "  \n",
    "  return labels\n"
   ]
  },
  {
   "cell_type": "code",
   "execution_count": 50,
   "metadata": {},
   "outputs": [],
   "source": [
    "def read_real_labels(file_path):\n",
    "    \n",
    "    with open(file_path, 'r') as file:\n",
    "        ann_real = file.readlines()\n",
    "\n",
    "    labels = []\n",
    "\n",
    "    for label in ann_real:\n",
    "        list_ = label[: -2].split(' ')\n",
    "        list_[0] = int(list_[0])\n",
    "        list_[1:] = list(map(float, list_[1:]))\n",
    "        labels.append(list_)\n",
    "    \n",
    "    return labels\n",
    "\n",
    "# read_real_labels(r\"C:\\Users\\p.alishah\\Desktop\\Projects\\python\\models\\nanodet\\datasets\\data\\human-vehicles-1\\test\\DSC_0035_JPG.rf.afd433663cdff42d40c59ef3085ee2af.txt\")"
   ]
  },
  {
   "cell_type": "code",
   "execution_count": 51,
   "metadata": {},
   "outputs": [],
   "source": [
    "project_name = \"human-vehicles-1\"\n",
    "current_dir = os.getcwd()   # Get current working directory\n",
    "test = os.path.join(current_dir, \"datasets\", \"data\", project_name, \"test\")     # Get test data directory\n",
    "train = os.path.join(current_dir, \"datasets\", \"data\", project_name, \"train\")   # Get train data directory\n",
    "valid = os.path.join(current_dir, \"datasets\", \"data\", project_name, \"valid\")   # Get validation data directory\n",
    "result = os.path.join(current_dir, \"workspace\") # Result files directory\n",
    "\n",
    "\n",
    "\n",
    "\n",
    "project_name = project_name\n",
    "result_num = 0\n",
    "result = result + f\"\\{project_name}\\\\results{result_num}.json\"\n",
    "\n",
    "# Load data from a local JSON file\n",
    "with open(result, 'r') as f:\n",
    "    result_logs = json.load(f)\n",
    "\n",
    "annotation_map = read_labels_from_text(test + \"\\_darknet.labels\")\n",
    "\n",
    "test_dir_info = os.listdir(test)\n",
    "\n",
    "img_id = int(input(\"Enter image id:\"))\n",
    "\n",
    "logs = []\n",
    "\n",
    "for val in result_logs:\n",
    "    \n",
    "    if val['image_id'] == img_id:\n",
    "        logs.append(val)"
   ]
  },
  {
   "cell_type": "code",
   "execution_count": 52,
   "metadata": {},
   "outputs": [],
   "source": [
    "img = test + f\"\\{test_dir_info[(img_id - 1) * 2]}\"\n",
    "img = cv2.imread(img)"
   ]
  },
  {
   "cell_type": "code",
   "execution_count": 53,
   "metadata": {},
   "outputs": [],
   "source": [
    "real_bbox = test + f\"\\{test_dir_info[(img_id - 1) * 2 + 1]}\"\n",
    "\n",
    "real_annotations = read_real_labels(real_bbox)\n",
    "real_annotations = create_boxes(img.shape, real_annotations)"
   ]
  },
  {
   "cell_type": "code",
   "execution_count": 54,
   "metadata": {},
   "outputs": [],
   "source": [
    "img_test = img.copy()"
   ]
  },
  {
   "cell_type": "code",
   "execution_count": 55,
   "metadata": {},
   "outputs": [],
   "source": [
    "for ann in real_annotations:\n",
    "\n",
    "    cv2.rectangle(img_test, ann[1], ann[2], (255, 0, 0), 2);\n",
    "    cv2.putText(img_test, \"{}-{}\".format(annotation_map[ann[0]], val[\"score\"]), (ann[1][0], ann[1][1] + 20), cv2.FONT_HERSHEY_SIMPLEX, 0.5, (0, 0, 255), 1)"
   ]
  },
  {
   "cell_type": "code",
   "execution_count": 56,
   "metadata": {},
   "outputs": [],
   "source": [
    "for ind, val in enumerate(logs):\n",
    "    if val['score'] > 0.5:\n",
    "        x, y, w, h = val['bbox']\n",
    "        cv2.rectangle(img_test, (int(y), int(x)), (int(w), int(h)), (0, 255, 0), 2)\n",
    "        cv2.putText(img_test, \"{}-{}\".format(annotation_map[val[\"category_id\"] - 1], val[\"score\"]), (int(x), int(y)+20), cv2.FONT_HERSHEY_SIMPLEX, 0.5, (0, 0, 255), 1)\n"
   ]
  },
  {
   "cell_type": "code",
   "execution_count": 57,
   "metadata": {},
   "outputs": [],
   "source": [
    "cv2.imshow(\"zhivan\", img_test)\n",
    "cv2.waitKey(0)\n",
    "cv2.destroyAllWindows()\n",
    "del img_test"
   ]
  },
  {
   "cell_type": "code",
   "execution_count": 58,
   "metadata": {},
   "outputs": [
    {
     "ename": "NameError",
     "evalue": "name 'img_test' is not defined",
     "output_type": "error",
     "traceback": [
      "\u001b[1;31m---------------------------------------------------------------------------\u001b[0m",
      "\u001b[1;31mNameError\u001b[0m                                 Traceback (most recent call last)",
      "Cell \u001b[1;32mIn[58], line 1\u001b[0m\n\u001b[1;32m----> 1\u001b[0m cv2\u001b[38;5;241m.\u001b[39mimshow(\u001b[38;5;124m\"\u001b[39m\u001b[38;5;124mzhivan\u001b[39m\u001b[38;5;124m\"\u001b[39m, \u001b[43mimg_test\u001b[49m)\n\u001b[0;32m      2\u001b[0m cv2\u001b[38;5;241m.\u001b[39mwaitKey(\u001b[38;5;241m0\u001b[39m)\n\u001b[0;32m      3\u001b[0m cv2\u001b[38;5;241m.\u001b[39mdestroyAllWindows()\n",
      "\u001b[1;31mNameError\u001b[0m: name 'img_test' is not defined"
     ]
    }
   ],
   "source": [
    "cv2.imshow(\"zhivan\", img_test)\n",
    "cv2.waitKey(0)\n",
    "cv2.destroyAllWindows()\n",
    "del img_test"
   ]
  }
 ],
 "metadata": {
  "kernelspec": {
   "display_name": "Python 3",
   "language": "python",
   "name": "python3"
  },
  "language_info": {
   "codemirror_mode": {
    "name": "ipython",
    "version": 3
   },
   "file_extension": ".py",
   "mimetype": "text/x-python",
   "name": "python",
   "nbconvert_exporter": "python",
   "pygments_lexer": "ipython3",
   "version": "3.10.10"
  }
 },
 "nbformat": 4,
 "nbformat_minor": 2
}
