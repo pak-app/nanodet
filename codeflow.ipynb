{
 "cells": [
  {
   "cell_type": "markdown",
   "metadata": {},
   "source": [
    "# **Codeflow**"
   ]
  },
  {
   "cell_type": "markdown",
   "metadata": {},
   "source": [
    "This file is for testing some temp codes."
   ]
  },
  {
   "cell_type": "markdown",
   "metadata": {},
   "source": [
    "## **Download dataset from Roboflow**"
   ]
  },
  {
   "cell_type": "markdown",
   "metadata": {},
   "source": [
    "### *Import Roboflow library*"
   ]
  },
  {
   "cell_type": "code",
   "execution_count": 1,
   "metadata": {},
   "outputs": [],
   "source": [
    "from roboflow import Roboflow"
   ]
  },
  {
   "cell_type": "markdown",
   "metadata": {},
   "source": [
    "### *Download Raccoon dataset*"
   ]
  },
  {
   "cell_type": "code",
   "execution_count": 4,
   "metadata": {},
   "outputs": [
    {
     "name": "stdout",
     "output_type": "stream",
     "text": [
      "loading Roboflow workspace...\n"
     ]
    },
    {
     "name": "stdout",
     "output_type": "stream",
     "text": [
      "loading Roboflow project...\n"
     ]
    },
    {
     "name": "stderr",
     "output_type": "stream",
     "text": [
      "Downloading Dataset Version Zip in Raccoon-38 to darknet:: 100%|██████████| 11788/11788 [00:00<00:00, 26275.18it/s]"
     ]
    },
    {
     "name": "stdout",
     "output_type": "stream",
     "text": [
      "\n"
     ]
    },
    {
     "name": "stderr",
     "output_type": "stream",
     "text": [
      "\n",
      "Extracting Dataset Version Zip to Raccoon-38 in darknet:: 100%|██████████| 794/794 [00:00<00:00, 11403.65it/s]\n"
     ]
    }
   ],
   "source": [
    "rf = Roboflow(api_key=\"3eUWAnLPrQgrYKIItqrW\")\n",
    "project = rf.workspace(\"roboflow-gw7yv\").project(\"raccoon\")\n",
    "version = project.version(38)\n",
    "dataset = version.download(\"darknet\")"
   ]
  },
  {
   "cell_type": "code",
   "execution_count": 5,
   "metadata": {},
   "outputs": [],
   "source": [
    "! mv ~/Raccoon-38 ~/nanodet/data/RaccoonYD-38"
   ]
  },
  {
   "cell_type": "code",
   "execution_count": 6,
   "metadata": {},
   "outputs": [
    {
     "name": "stdout",
     "output_type": "stream",
     "text": [
      "<class 'dict'>\n"
     ]
    }
   ],
   "source": [
    "import yaml\n",
    "with open('/teamspace/studios/this_studio/nanodet/datasets/configs/RaccoonYD-38/config.yml', 'r') as f:\n",
    "    data = yaml.load(f, Loader=yaml.SafeLoader)\n",
    "     \n",
    "# Print the values as a dictionary\n",
    "print(type(data))"
   ]
  },
  {
   "cell_type": "code",
   "execution_count": 9,
   "metadata": {},
   "outputs": [
    {
     "data": {
      "text/plain": [
       "'${ENV_PARENT_DIR}/${DATASET_DIR}/${DATASET_TRAIN_DIR}'"
      ]
     },
     "execution_count": 9,
     "metadata": {},
     "output_type": "execute_result"
    }
   ],
   "source": [
    "data['train_path']"
   ]
  },
  {
   "cell_type": "code",
<<<<<<< HEAD
   "execution_count": 18,
   "metadata": {},
   "outputs": [],
   "source": [
    "from nanodet.util import (\n",
    "    NanoDetLightningLogger,\n",
    "    cfg,\n",
    "    convert_old_model,\n",
    "    env_utils,\n",
    "    load_config,\n",
    "    load_model_weight,\n",
    "    mkdir,\n",
    ")"
   ]
  },
  {
   "cell_type": "code",
   "execution_count": 23,
=======
   "execution_count": 2,
>>>>>>> 67eca27d9a54915953c8e5f3acb0ae0566bdaef5
   "metadata": {},
   "outputs": [
    {
     "name": "stdout",
     "output_type": "stream",
     "text": [
<<<<<<< HEAD
      "yes\n"
=======
      "loading Roboflow workspace...\n",
      "loading Roboflow project...\n"
     ]
    },
    {
     "name": "stderr",
     "output_type": "stream",
     "text": [
      "Downloading Dataset Version Zip in human-vehicles-1 to darknet:: 100%|██████████| 159583/159583 [00:03<00:00, 50525.70it/s]"
     ]
    },
    {
     "name": "stdout",
     "output_type": "stream",
     "text": [
      "\n"
     ]
    },
    {
     "name": "stderr",
     "output_type": "stream",
     "text": [
      "\n",
      "Extracting Dataset Version Zip to human-vehicles-1 in darknet:: 100%|██████████| 10093/10093 [00:01<00:00, 9609.11it/s]\n"
>>>>>>> 67eca27d9a54915953c8e5f3acb0ae0566bdaef5
     ]
    }
   ],
   "source": [
<<<<<<< HEAD
    "load_config(cfg, r\"C:\\Users\\p.alishah\\Desktop\\Projects\\python\\models\\nanodet\\datasets\\configs\\RaccoonYD-38\\config_train.yml\")\n",
    "if \"resume\" in cfg.schedule:\n",
    "    print(\"yes\")"
=======
    "rf = Roboflow(api_key=\"F5FkIsHF0SvLGZQMbyCo\")\n",
    "project = rf.workspace(\"zhivanai\").project(\"human-vehicles\")\n",
    "version = project.version(1)\n",
    "dataset = version.download(\"darknet\")\n"
>>>>>>> 67eca27d9a54915953c8e5f3acb0ae0566bdaef5
   ]
  },
  {
   "cell_type": "code",
   "execution_count": 10,
<<<<<<< HEAD
   "metadata": {},
   "outputs": [
    {
     "name": "stdout",
     "output_type": "stream",
     "text": [
      "yes\n"
     ]
    }
   ],
   "source": [
    "cfg.schedule.optimizer"
   ]
  },
  {
   "cell_type": "code",
   "execution_count": 11,
   "metadata": {},
   "outputs": [
    {
     "data": {
      "text/plain": [
       "CfgNode({'name': 'AdamW', 'lr': 0.001, 'weight_decay': 0.05})"
      ]
     },
     "execution_count": 11,
     "metadata": {},
     "output_type": "execute_result"
    }
   ],
   "source": []
  },
  {
   "cell_type": "code",
   "execution_count": null,
=======
>>>>>>> 67eca27d9a54915953c8e5f3acb0ae0566bdaef5
   "metadata": {},
   "outputs": [],
   "source": [
    "! mv ~/human-vehicles-1 ~/nanodet/datasets/data/human-vehicles-1"
   ]
  },
  {
   "cell_type": "code",
   "execution_count": 3,
   "metadata": {},
   "outputs": [],
   "source": [
    "import os"
   ]
  },
  {
   "cell_type": "code",
   "execution_count": 7,
   "metadata": {},
   "outputs": [],
   "source": [
    "list_ = os.listdir(\"/teamspace/studios/this_studio/human-vehicles-1/train\")\n"
   ]
  },
  {
   "cell_type": "code",
   "execution_count": 8,
   "metadata": {},
   "outputs": [
    {
     "data": {
      "text/plain": [
       "7905"
      ]
     },
     "execution_count": 8,
     "metadata": {},
     "output_type": "execute_result"
    }
   ],
   "source": [
    "len(list_)"
   ]
  }
 ],
 "metadata": {
  "kernelspec": {
   "display_name": "Python 3",
   "language": "python",
   "name": "python3"
  },
  "language_info": {
   "codemirror_mode": {
    "name": "ipython",
    "version": 3
   },
   "file_extension": ".py",
   "mimetype": "text/x-python",
   "name": "python",
   "nbconvert_exporter": "python",
   "pygments_lexer": "ipython3",
   "version": "3.10.10"
  }
 },
 "nbformat": 4,
 "nbformat_minor": 2
}
